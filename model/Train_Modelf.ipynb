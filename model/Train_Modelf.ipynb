{
  "cells": [
    {
      "cell_type": "code",
      "execution_count": 2,
      "metadata": {
        "colab": {
          "base_uri": "https://localhost:8080/",
          "height": 105
        },
        "id": "pbX5RXM9teSY",
        "outputId": "6d983501-88e9-4a96-c8c2-a52e090350d7"
      },
      "outputs": [
        {
          "name": "stderr",
          "output_type": "stream",
          "text": [
            "Downloading...\n",
            "From: https://drive.google.com/uc?id=1ckAYpVnT-wqTclxnvpld6dWp8Q1QZv7b\n",
            "To: d:\\Kuliah\\Out\\deploycamp\\file\\ModelAPI\\model\\fraudTrain.csv\n",
            "100%|██████████| 28.3k/28.3k [00:00<00:00, 3.13MB/s]\n"
          ]
        },
        {
          "data": {
            "text/plain": [
              "'fraudTrain.csv'"
            ]
          },
          "execution_count": 2,
          "metadata": {},
          "output_type": "execute_result"
        }
      ],
      "source": [
        "# ====== Setup & Download ======\n",
        "import gdown\n",
        "import pandas as pd\n",
        "import numpy as np\n",
        "import matplotlib.pyplot as plt\n",
        "import seaborn as sns\n",
        "\n",
        "# Download dataset\n",
        "file_id = '1ckAYpVnT-wqTclxnvpld6dWp8Q1QZv7b'\n",
        "gdown.download(id=file_id, output='fraudTrain.csv', quiet=False)"
      ]
    },
    {
      "cell_type": "code",
      "execution_count": 3,
      "metadata": {
        "colab": {
          "base_uri": "https://localhost:8080/"
        },
        "id": "XVT9Tbzbyksp",
        "outputId": "ff584509-d3b1-444b-d4d6-d93c154a85ad"
      },
      "outputs": [
        {
          "name": "stdout",
          "output_type": "stream",
          "text": [
            "Dataset loaded: 1000 rows × 5 columns\n"
          ]
        }
      ],
      "source": [
        "# ====== 1. Load Data ======\n",
        "df = pd.read_csv(\"fraudTrain.csv\")\n",
        "print(f\"Dataset loaded: {df.shape[0]} rows × {df.shape[1]} columns\")"
      ]
    },
    {
      "cell_type": "code",
      "execution_count": 4,
      "metadata": {
        "colab": {
          "base_uri": "https://localhost:8080/"
        },
        "id": "Rx39bz_Qyq_B",
        "outputId": "719f9acc-e953-4840-c450-f53b129bb78f"
      },
      "outputs": [
        {
          "name": "stdout",
          "output_type": "stream",
          "text": [
            "\n",
            "Basic Info:\n",
            "<class 'pandas.core.frame.DataFrame'>\n",
            "RangeIndex: 1000 entries, 0 to 999\n",
            "Data columns (total 5 columns):\n",
            " #   Column          Non-Null Count  Dtype  \n",
            "---  ------          --------------  -----  \n",
            " 0   transaction_id  1000 non-null   int64  \n",
            " 1   amount          1000 non-null   float64\n",
            " 2   merchant_type   1000 non-null   object \n",
            " 3   device_type     1000 non-null   object \n",
            " 4   label           1000 non-null   int64  \n",
            "dtypes: float64(1), int64(2), object(2)\n",
            "memory usage: 39.2+ KB\n",
            "None\n"
          ]
        }
      ],
      "source": [
        "# ====== 2. Basic Info ======\n",
        "print(\"\\nBasic Info:\")\n",
        "print(df.info())"
      ]
    },
    {
      "cell_type": "code",
      "execution_count": 5,
      "metadata": {
        "colab": {
          "base_uri": "https://localhost:8080/"
        },
        "id": "JWnpikPGytBq",
        "outputId": "05633504-9507-4597-a974-bccc031dfba7"
      },
      "outputs": [
        {
          "name": "stdout",
          "output_type": "stream",
          "text": [
            "\n",
            "Missing Values:\n",
            "Series([], dtype: int64)\n",
            "\n",
            "Duplicate Rows:\n",
            "0\n"
          ]
        }
      ],
      "source": [
        "# ====== 3. Missing Values & Duplicate Rows Check ======\n",
        "print(\"\\nMissing Values:\")\n",
        "missing = df.isnull().sum()\n",
        "print(missing[missing > 0])\n",
        "\n",
        "print(\"\\nDuplicate Rows:\")\n",
        "duplicate = df.duplicated().sum()\n",
        "print(duplicate)"
      ]
    },
    {
      "cell_type": "code",
      "execution_count": 6,
      "metadata": {
        "colab": {
          "base_uri": "https://localhost:8080/"
        },
        "id": "zlrqvvU0ywH_",
        "outputId": "c70d636c-1ebb-40de-dffd-2cfbacc0b7af"
      },
      "outputs": [
        {
          "name": "stdout",
          "output_type": "stream",
          "text": [
            "\n",
            "Skewness Check:\n",
            "label             4.135689\n",
            "amount            1.867839\n",
            "transaction_id    0.000000\n",
            "dtype: float64\n",
            "\n",
            "Recommendation:\n",
            "label is highly skewed (skew=4.14). Suggest: Apply log or sqrt transform.\n",
            "amount is highly skewed (skew=1.87). Suggest: Apply log or sqrt transform.\n",
            "transaction_id is fairly symmetric (skew=0.00). No action needed.\n"
          ]
        }
      ],
      "source": [
        "# ====== 4. Skewness Check ======\n",
        "print(\"\\nSkewness Check:\")\n",
        "skewed_features = df.select_dtypes(include=['number']).apply(lambda x: x.skew()).sort_values(ascending=False)\n",
        "print(skewed_features)\n",
        "\n",
        "print(\"\\nRecommendation:\")\n",
        "for col, skew in skewed_features.items():\n",
        "    if abs(skew) > 1:\n",
        "        print(f\"{col} is highly skewed (skew={skew:.2f}). Suggest: Apply log or sqrt transform.\")\n",
        "    elif abs(skew) > 0.5:\n",
        "        print(f\"{col} is moderately skewed (skew={skew:.2f}). Transform optional.\")\n",
        "    else:\n",
        "        print(f\"{col} is fairly symmetric (skew={skew:.2f}). No action needed.\")"
      ]
    },
    {
      "cell_type": "code",
      "execution_count": 7,
      "metadata": {
        "colab": {
          "base_uri": "https://localhost:8080/"
        },
        "id": "4JKMn4Ioyzc7",
        "outputId": "56df8d4b-8469-45b2-c518-223f871c051b"
      },
      "outputs": [
        {
          "name": "stdout",
          "output_type": "stream",
          "text": [
            "\n",
            " Outlier Check (IQR Method):\n",
            "transaction_id: No significant outliers.\n",
            "amount: 43 outliers detected.\n",
            "label: 50 outliers detected.\n"
          ]
        }
      ],
      "source": [
        "# ====== 5. Outlier Detection (IQR Method) ======\n",
        "print(\"\\n Outlier Check (IQR Method):\")\n",
        "for col in df.select_dtypes(include=['number']):\n",
        "    Q1 = df[col].quantile(0.25)\n",
        "    Q3 = df[col].quantile(0.75)\n",
        "    IQR = Q3 - Q1\n",
        "    outlier_count = ((df[col] < (Q1 - 1.5 * IQR)) | (df[col] > (Q3 + 1.5 * IQR))).sum()\n",
        "    if outlier_count > 0:\n",
        "        print(f\"{col}: {outlier_count} outliers detected.\")\n",
        "    else:\n",
        "        print(f\"{col}: No significant outliers.\")"
      ]
    },
    {
      "cell_type": "code",
      "execution_count": 8,
      "metadata": {
        "colab": {
          "base_uri": "https://localhost:8080/"
        },
        "id": "3VOL5cGay2PY",
        "outputId": "13b75b78-6930-4ef7-eb21-e3ec1a7d135b"
      },
      "outputs": [
        {
          "name": "stdout",
          "output_type": "stream",
          "text": [
            "\n",
            " Correlation Matrix (Top correlated pairs):\n",
            "Series([], dtype: float64)\n",
            "\n",
            " Recommendation:\n"
          ]
        }
      ],
      "source": [
        "# ====== 6. Correlation Analysis ======\n",
        "print(\"\\n Correlation Matrix (Top correlated pairs):\")\n",
        "correlation = df.corr(numeric_only=True)\n",
        "cor_matrix = correlation.abs().unstack().sort_values(ascending=False).drop_duplicates()\n",
        "top_corr = cor_matrix[(cor_matrix < 1) & (cor_matrix > 0.7)]\n",
        "print(top_corr)\n",
        "\n",
        "print(\"\\n Recommendation:\")\n",
        "for (f1, f2), corr_val in top_corr.items():\n",
        "    print(f\" {f1} & {f2} have high correlation ({corr_val:.2f}). Suggest: Keep only one or apply dimensionality reduction (e.g., PCA).\")"
      ]
    },
    {
      "cell_type": "code",
      "execution_count": 9,
      "metadata": {
        "colab": {
          "base_uri": "https://localhost:8080/",
          "height": 545
        },
        "id": "DBzZH3uky5Ea",
        "outputId": "8992f26f-02b0-4d4b-d9e9-30d732c0f9ea"
      },
      "outputs": [
        {
          "data": {
            "image/png": "[encoded data removed]",
            "text/plain": [
              "<Figure size 1000x600 with 2 Axes>"
            ]
          },
          "metadata": {},
          "output_type": "display_data"
        }
      ],
      "source": [
        "# ====== 7. Heatmap ======\n",
        "plt.figure(figsize=(10, 6))\n",
        "sns.heatmap(correlation, annot=True, cmap=\"coolwarm\", fmt=\".2f\")\n",
        "plt.title(\"Correlation Heatmap\")\n",
        "plt.show()"
      ]
    },
    {
      "cell_type": "code",
      "execution_count": 10,
      "metadata": {
        "id": "rUrayiFoy_qw"
      },
      "outputs": [],
      "source": [
        "# ====== 8. Preprocessing ======\n",
        "# Log transform amount\n",
        "df['amount_log'] = np.log1p(df['amount'])\n",
        "\n",
        "# One-hot encoding\n",
        "categorical_cols = ['merchant_type', 'device_type']\n",
        "df_encoded = pd.get_dummies(df, columns=categorical_cols, drop_first=True)\n",
        "\n",
        "# SMOTE preparation\n",
        "from imblearn.over_sampling import SMOTE\n",
        "from sklearn.model_selection import train_test_split\n",
        "\n",
        "X = df_encoded.drop(columns=['label', 'transaction_id', 'amount'])\n",
        "y = df_encoded['label']\n",
        "\n",
        "# Train-test split\n",
        "X_train, X_test, y_train, y_test = train_test_split(\n",
        "    X, y, test_size=0.2, stratify=y, random_state=42\n",
        ")\n",
        "\n",
        "# SMOTE\n",
        "sm = SMOTE(random_state=42)\n",
        "X_res, y_res = sm.fit_resample(X_train, y_train)"
      ]
    },
    {
      "cell_type": "code",
      "execution_count": null,
      "metadata": {
        "colab": {
          "base_uri": "https://localhost:8080/",
          "height": 327
        },
        "id": "ihlZoRibzCYE",
        "outputId": "5203a9f6-477f-4437-aaf5-7e6ffc56b226"
      },
      "outputs": [
        {
          "name": "stdout",
          "output_type": "stream",
          "text": [
            "Fitting 3 folds for each of 54 candidates, totalling 162 fits\n",
            "\n",
            "Best Parameters: {'learning_rate': 0.05, 'max_depth': 6, 'n_estimators': 100, 'scale_pos_weight': 1}\n",
            "Best CV Score: 0.7786250491965849\n"
          ]
        },
        {
          "name": "stderr",
          "output_type": "stream",
          "text": [
            "d:\\aplikasi\\python\\Lib\\site-packages\\xgboost\\training.py:183: UserWarning: [23:44:23] WARNING: C:\\actions-runner\\_work\\xgboost\\xgboost\\src\\learner.cc:738: \n",
            "Parameters: { \"use_label_encoder\" } are not used.\n",
            "\n",
            "  bst.update(dtrain, iteration=i, fobj=obj)\n"
          ]
        }
      ],
      "source": [
        "# ====== 9. XGBoost Training with Low-Risk Tuning ======\n",
        "from xgboost import XGBClassifier\n",
        "from sklearn.model_selection import GridSearchCV, StratifiedKFold\n",
        "from sklearn.metrics import classification_report, confusion_matrix, ConfusionMatrixDisplay\n",
        "import matplotlib.pyplot as plt\n",
        "\n",
        "baseline_params = {\n",
        "    'use_label_encoder': False,\n",
        "    'eval_metric': 'logloss',\n",
        "    'random_state': 42\n",
        "}\n",
        "\n",
        "param_grid = {\n",
        "    'scale_pos_weight': [1, 2, 3],\n",
        "    'max_depth': [4, 5, 6],\n",
        "    'learning_rate': [0.05, 0.1],\n",
        "    'n_estimators': [100, 200, 300]\n",
        "}\n",
        "\n",
        "xgb_base = XGBClassifier(**baseline_params)\n",
        "\n",
        "cv = StratifiedKFold(n_splits=3, shuffle=True, random_state=42)\n",
        "\n",
        "grid_search = GridSearchCV(\n",
        "    estimator=xgb_base,\n",
        "    param_grid=param_grid,\n",
        "    scoring='f1_weighted',\n",
        "    cv=cv,\n",
        "    verbose=2,\n",
        "    n_jobs=-1\n",
        ")\n",
        "\n",
        "grid_search.fit(X_res, y_res)\n",
        "\n",
        "print(\"\\nBest Parameters:\", grid_search.best_params_)\n",
        "print(\"Best CV Score:\", grid_search.best_score_)\n",
        "\n",
        "best_model = grid_search.best_estimator_\n"
      ]
    },
    {
      "cell_type": "code",
      "execution_count": 12,
      "metadata": {
        "colab": {
          "base_uri": "https://localhost:8080/",
          "height": 680
        },
        "id": "0JPCFib3zE3V",
        "outputId": "946e8245-7733-4646-ce9a-9eb8e5bb681c"
      },
      "outputs": [
        {
          "name": "stdout",
          "output_type": "stream",
          "text": [
            "Classification Report:\n",
            "\n",
            "              precision    recall  f1-score   support\n",
            "\n",
            "           0     0.9600    0.7579    0.8471       190\n",
            "           1     0.0800    0.4000    0.1333        10\n",
            "\n",
            "    accuracy                         0.7400       200\n",
            "   macro avg     0.5200    0.5789    0.4902       200\n",
            "weighted avg     0.9160    0.7400    0.8114       200\n",
            "\n"
          ]
        },
        {
          "data": {
            "text/plain": [
              "<Figure size 600x400 with 0 Axes>"
            ]
          },
          "metadata": {},
          "output_type": "display_data"
        },
        {
          "data": {
            "image/png": "[encoded data removed]",
            "text/plain": [
              "<Figure size 640x480 with 2 Axes>"
            ]
          },
          "metadata": {},
          "output_type": "display_data"
        }
      ],
      "source": [
        "# ====== 10. Evaluation ======\n",
        "from sklearn.metrics import classification_report, confusion_matrix, ConfusionMatrixDisplay\n",
        "\n",
        "y_pred = best_model.predict(X_test)\n",
        "\n",
        "# Classification Report\n",
        "print(\"Classification Report:\\n\")\n",
        "print(classification_report(y_test, y_pred, digits=4))\n",
        "\n",
        "# Confusion Matrix\n",
        "cm = confusion_matrix(y_test, y_pred, labels=[0, 1])\n",
        "disp = ConfusionMatrixDisplay(confusion_matrix=cm, display_labels=[\"Non-Fraud\", \"Fraud\"])\n",
        "plt.figure(figsize=(6, 4))\n",
        "disp.plot(cmap='Blues', values_format='d')\n",
        "plt.title(\"Confusion Matrix\")\n",
        "plt.show()"
      ]
    },
    {
      "cell_type": "code",
      "execution_count": null,
      "metadata": {
        "colab": {
          "base_uri": "https://localhost:8080/"
        },
        "id": "2gXIviMygG03",
        "outputId": "cb80923a-3bea-418a-c85c-18566ec628ec"
      },
      "outputs": [
        {
          "name": "stdout",
          "output_type": "stream",
          "text": [
            "\n",
            " Prediksi untuk data baru:\n",
            " Label prediksi: Fraud\n",
            " Probabilitas: Non-Fraud=0.1463, Fraud=0.8537\n"
          ]
        }
      ],
      "source": [
        "# ====== 11. Load Sample Data Baru ======\n",
        "sample_data = {\n",
        "    'transaction_id': 1001,\n",
        "    'amount': 104.88,\n",
        "    'merchant_type': 'electronics',\n",
        "    'device_type': 'tablet'\n",
        "}\n",
        "\n",
        "# DataFrame\n",
        "sample_df = pd.DataFrame([sample_data])\n",
        "\n",
        "# Amount_log\n",
        "sample_df['amount_log'] = np.log1p(sample_df['amount'])\n",
        "\n",
        "combined = pd.concat([df[['merchant_type', 'device_type']], sample_df[['merchant_type', 'device_type']]])\n",
        "combined_encoded = pd.get_dummies(combined, drop_first=True)\n",
        "\n",
        "sample_encoded = combined_encoded.iloc[[-1]].reset_index(drop=True)\n",
        "\n",
        "numerical_cols = ['amount_log']\n",
        "sample_final = pd.concat([sample_df[numerical_cols].reset_index(drop=True), sample_encoded], axis=1)\n",
        "\n",
        "for col in X_train.columns:\n",
        "    if col not in sample_final.columns:\n",
        "        sample_final[col] = 0\n",
        "\n",
        "sample_final = sample_final[X_train.columns]\n",
        "\n",
        "# ====== 12. Prediksi ======\n",
        "new_prediction = best_model.predict(sample_final)\n",
        "new_proba = best_model.predict_proba(sample_final)\n",
        "\n",
        "print(f\"\\n Prediksi untuk data baru:\")\n",
        "print(f\" Label prediksi: {'Fraud' if new_prediction[0] == 1 else 'Non-Fraud'}\")\n",
        "print(f\" Probabilitas: Non-Fraud={new_proba[0][0]:.4f}, Fraud={new_proba[0][1]:.4f}\")"
      ]
    },
    {
      "cell_type": "code",
      "execution_count": null,
      "metadata": {},
      "outputs": [],
      "source": [
        "import os\n",
        "import pickle\n",
        "\n",
        "os.makedirs(\"model\", exist_ok=True)\n",
        "\n",
        "with open(\"model/train_Model.pkl\", \"wb\") as f:\n",
        "    pickle.dump(best_model, f)\n",
        "\n",
        "model_columns = list(X_train.columns)\n",
        "with open(\"model/model_columns.pkl\", \"wb\") as f:\n",
        "    pickle.dump(model_columns, f)\n"
      ]
    }
  ],
  "metadata": {
    "colab": {
      "provenance": []
    },
    "kernelspec": {
      "display_name": "Python 3",
      "language": "python",
      "name": "python3"
    },
    "language_info": {
      "codemirror_mode": {
        "name": "ipython",
        "version": 3
      },
      "file_extension": ".py",
      "mimetype": "text/x-python",
      "name": "python",
      "nbconvert_exporter": "python",
      "pygments_lexer": "ipython3",
      "version": "3.12.9"
    }
  },
  "nbformat": 4,
  "nbformat_minor": 0
}
