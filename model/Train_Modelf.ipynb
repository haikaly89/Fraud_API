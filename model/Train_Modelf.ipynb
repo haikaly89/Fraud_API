{
  "cells": [
    {
      "cell_type": "code",
      "execution_count": 1,
      "metadata": {
        "colab": {
          "base_uri": "https://localhost:8080/",
          "height": 105
        },
        "id": "pbX5RXM9teSY",
        "outputId": "6d983501-88e9-4a96-c8c2-a52e090350d7"
      },
      "outputs": [
        {
          "name": "stderr",
          "output_type": "stream",
          "text": [
            "Downloading...\n",
            "From: https://drive.google.com/uc?id=1ckAYpVnT-wqTclxnvpld6dWp8Q1QZv7b\n",
            "To: d:\\github\\Fraud_API\\model\\fraudTrain.csv\n",
            "100%|██████████| 28.3k/28.3k [00:00<00:00, 120kB/s]\n"
          ]
        },
        {
          "data": {
            "text/plain": [
              "'fraudTrain.csv'"
            ]
          },
          "execution_count": 1,
          "metadata": {},
          "output_type": "execute_result"
        }
      ],
      "source": [
        "# ====== Setup & Download ======\n",
        "import gdown\n",
        "import pandas as pd\n",
        "import numpy as np\n",
        "import matplotlib.pyplot as plt\n",
        "import seaborn as sns\n",
        "\n",
        "# Download dataset\n",
        "file_id = '1ckAYpVnT-wqTclxnvpld6dWp8Q1QZv7b'\n",
        "gdown.download(id=file_id, output='fraudTrain.csv', quiet=False)"
      ]
    },
    {
      "cell_type": "code",
      "execution_count": 2,
      "metadata": {
        "colab": {
          "base_uri": "https://localhost:8080/"
        },
        "id": "XVT9Tbzbyksp",
        "outputId": "ff584509-d3b1-444b-d4d6-d93c154a85ad"
      },
      "outputs": [
        {
          "name": "stdout",
          "output_type": "stream",
          "text": [
            "Dataset loaded: 1000 rows × 5 columns\n"
          ]
        }
      ],
      "source": [
        "# ====== Load Data ======\n",
        "df = pd.read_csv(\"fraudTrain.csv\")\n",
        "print(f\"Dataset loaded: {df.shape[0]} rows × {df.shape[1]} columns\")"
      ]
    },
    {
      "cell_type": "code",
      "execution_count": 3,
      "metadata": {
        "colab": {
          "base_uri": "https://localhost:8080/"
        },
        "id": "Rx39bz_Qyq_B",
        "outputId": "719f9acc-e953-4840-c450-f53b129bb78f"
      },
      "outputs": [],
      "source": [
        "# ====== Basic Info ======\n",
        "#print(\"\\nBasic Info:\")\n",
        "#print(df.info())"
      ]
    },
    {
      "cell_type": "code",
      "execution_count": 4,
      "metadata": {
        "colab": {
          "base_uri": "https://localhost:8080/"
        },
        "id": "JWnpikPGytBq",
        "outputId": "05633504-9507-4597-a974-bccc031dfba7"
      },
      "outputs": [
        {
          "name": "stdout",
          "output_type": "stream",
          "text": [
            "\n",
            "Missing Values:\n",
            "Series([], dtype: int64)\n",
            "\n",
            "Duplicate Rows:\n",
            "0\n"
          ]
        }
      ],
      "source": [
        "# ====== Missing Values & Duplicate Rows Check ======\n",
        "print(\"\\nMissing Values:\")\n",
        "missing = df.isnull().sum()\n",
        "print(missing[missing > 0])\n",
        "\n",
        "print(\"\\nDuplicate Rows:\")\n",
        "duplicate = df.duplicated().sum()\n",
        "print(duplicate)"
      ]
    },
    {
      "cell_type": "code",
      "execution_count": 5,
      "metadata": {
        "colab": {
          "base_uri": "https://localhost:8080/"
        },
        "id": "zlrqvvU0ywH_",
        "outputId": "c70d636c-1ebb-40de-dffd-2cfbacc0b7af"
      },
      "outputs": [
        {
          "name": "stdout",
          "output_type": "stream",
          "text": [
            "\n",
            "Skewness Check:\n",
            "label             4.135689\n",
            "amount            1.867839\n",
            "transaction_id    0.000000\n",
            "dtype: float64\n",
            "\n",
            "Recommendation:\n",
            "label is highly skewed (skew=4.14). Suggest: Apply log or sqrt transform.\n",
            "amount is highly skewed (skew=1.87). Suggest: Apply log or sqrt transform.\n",
            "transaction_id is fairly symmetric (skew=0.00). No action needed.\n"
          ]
        }
      ],
      "source": [
        "# ====== Skewness Check ======\n",
        "print(\"\\nSkewness Check:\")\n",
        "skewed_features = df.select_dtypes(include=['number']).apply(lambda x: x.skew()).sort_values(ascending=False)\n",
        "print(skewed_features)\n",
        "\n",
        "print(\"\\nRecommendation:\")\n",
        "for col, skew in skewed_features.items():\n",
        "    if abs(skew) > 1:\n",
        "        print(f\"{col} is highly skewed (skew={skew:.2f}). Suggest: Apply log or sqrt transform.\")\n",
        "    elif abs(skew) > 0.5:\n",
        "        print(f\"{col} is moderately skewed (skew={skew:.2f}). Transform optional.\")\n",
        "    else:\n",
        "        print(f\"{col} is fairly symmetric (skew={skew:.2f}). No action needed.\")"
      ]
    },
    {
      "cell_type": "code",
      "execution_count": 6,
      "metadata": {
        "colab": {
          "base_uri": "https://localhost:8080/"
        },
        "id": "4JKMn4Ioyzc7",
        "outputId": "56df8d4b-8469-45b2-c518-223f871c051b"
      },
      "outputs": [
        {
          "name": "stdout",
          "output_type": "stream",
          "text": [
            "\n",
            " Outlier Check (IQR Method):\n",
            "transaction_id: No significant outliers.\n",
            "amount: 43 outliers detected.\n",
            "label: 50 outliers detected.\n"
          ]
        }
      ],
      "source": [
        "# ====== Outlier Detection (IQR Method) ======\n",
        "print(\"\\n Outlier Check (IQR Method):\")\n",
        "for col in df.select_dtypes(include=['number']):\n",
        "    Q1 = df[col].quantile(0.25)\n",
        "    Q3 = df[col].quantile(0.75)\n",
        "    IQR = Q3 - Q1\n",
        "    outlier_count = ((df[col] < (Q1 - 1.5 * IQR)) | (df[col] > (Q3 + 1.5 * IQR))).sum()\n",
        "    if outlier_count > 0:\n",
        "        print(f\"{col}: {outlier_count} outliers detected.\")\n",
        "    else:\n",
        "        print(f\"{col}: No significant outliers.\")"
      ]
    },
    {
      "cell_type": "code",
      "execution_count": 7,
      "metadata": {
        "colab": {
          "base_uri": "https://localhost:8080/"
        },
        "id": "3VOL5cGay2PY",
        "outputId": "13b75b78-6930-4ef7-eb21-e3ec1a7d135b"
      },
      "outputs": [
        {
          "name": "stdout",
          "output_type": "stream",
          "text": [
            "\n",
            " Correlation Matrix (Top correlated pairs):\n",
            "Series([], dtype: float64)\n",
            "\n",
            " Recommendation:\n"
          ]
        }
      ],
      "source": [
        "# ====== Correlation Analysis ======\n",
        "print(\"\\n Correlation Matrix (Top correlated pairs):\")\n",
        "correlation = df.corr(numeric_only=True)\n",
        "cor_matrix = correlation.abs().unstack().sort_values(ascending=False).drop_duplicates()\n",
        "top_corr = cor_matrix[(cor_matrix < 1) & (cor_matrix > 0.7)]\n",
        "print(top_corr)\n",
        "\n",
        "print(\"\\n Recommendation:\")\n",
        "for (f1, f2), corr_val in top_corr.items():\n",
        "    print(f\" {f1} & {f2} have high correlation ({corr_val:.2f}). Suggest: Keep only one or apply dimensionality reduction (e.g., PCA).\")"
      ]
    },
    {
      "cell_type": "code",
      "execution_count": 8,
      "metadata": {
        "colab": {
          "base_uri": "https://localhost:8080/",
          "height": 545
        },
        "id": "DBzZH3uky5Ea",
        "outputId": "8992f26f-02b0-4d4b-d9e9-30d732c0f9ea"
      },
      "outputs": [
        {
          "data": {
            "image/png": "[encoded data removed]",
            "text/plain": [
              "<Figure size 1000x600 with 2 Axes>"
            ]
          },
          "metadata": {},
          "output_type": "display_data"
        }
      ],
      "source": [
        "# ====== Heatmap ======\n",
        "plt.figure(figsize=(10, 6))\n",
        "sns.heatmap(correlation, annot=True, cmap=\"coolwarm\", fmt=\".2f\")\n",
        "plt.title(\"Correlation Heatmap\")\n",
        "plt.show()"
      ]
    },
    {
      "cell_type": "code",
      "execution_count": 9,
      "metadata": {
        "id": "rUrayiFoy_qw"
      },
      "outputs": [],
      "source": [
        "# ====== Preprocessing ======\n",
        "# Log transform amount\n",
        "df['amount_log'] = np.log1p(df['amount'])\n",
        "\n",
        "# One-hot encoding\n",
        "categorical_cols = ['merchant_type', 'device_type']\n",
        "df_encoded = pd.get_dummies(df, columns=categorical_cols, drop_first=True)\n",
        "\n",
        "# SMOTE preparation\n",
        "from imblearn.over_sampling import SMOTE\n",
        "from sklearn.model_selection import train_test_split\n",
        "\n",
        "X = df_encoded.drop(columns=['label', 'transaction_id', 'amount'])\n",
        "y = df_encoded['label']\n",
        "\n",
        "# Train-test split\n",
        "X_train, X_test, y_train, y_test = train_test_split(\n",
        "    X, y, test_size=0.2, stratify=y, random_state=42\n",
        ")\n",
        "\n",
        "# SMOTE\n",
        "sm = SMOTE(random_state=42)\n",
        "X_res, y_res = sm.fit_resample(X_train, y_train)"
      ]
    },
    {
      "cell_type": "code",
      "execution_count": null,
      "metadata": {
        "colab": {
          "base_uri": "https://localhost:8080/",
          "height": 327
        },
        "id": "ihlZoRibzCYE",
        "outputId": "5203a9f6-477f-4437-aaf5-7e6ffc56b226"
      },
      "outputs": [
        {
          "name": "stdout",
          "output_type": "stream",
          "text": [
            "Epoch 1/20\n",
            "\u001b[1m38/38\u001b[0m \u001b[32m━━━━━━━━━━━━━━━━━━━━\u001b[0m\u001b[37m\u001b[0m \u001b[1m3s\u001b[0m 20ms/step - accuracy: 0.6184 - loss: 0.6542 - precision: 0.4815 - recall: 0.2281 - val_accuracy: 0.1086 - val_loss: 0.8945 - val_precision: 1.0000 - val_recall: 0.1086\n",
            "Epoch 2/20\n",
            "\u001b[1m38/38\u001b[0m \u001b[32m━━━━━━━━━━━━━━━━━━━━\u001b[0m\u001b[37m\u001b[0m \u001b[1m0s\u001b[0m 5ms/step - accuracy: 0.6604 - loss: 0.6205 - precision: 0.5788 - recall: 0.3465 - val_accuracy: 0.4408 - val_loss: 0.8341 - val_precision: 1.0000 - val_recall: 0.4408\n",
            "Epoch 3/20\n",
            "\u001b[1m38/38\u001b[0m \u001b[32m━━━━━━━━━━━━━━━━━━━━\u001b[0m\u001b[37m\u001b[0m \u001b[1m0s\u001b[0m 6ms/step - accuracy: 0.6826 - loss: 0.5933 - precision: 0.6277 - recall: 0.3772 - val_accuracy: 0.5263 - val_loss: 0.7763 - val_precision: 1.0000 - val_recall: 0.5263\n",
            "Epoch 4/20\n",
            "\u001b[1m38/38\u001b[0m \u001b[32m━━━━━━━━━━━━━━━━━━━━\u001b[0m\u001b[37m\u001b[0m \u001b[1m0s\u001b[0m 5ms/step - accuracy: 0.7015 - loss: 0.5797 - precision: 0.6396 - recall: 0.4671 - val_accuracy: 0.5033 - val_loss: 0.8202 - val_precision: 1.0000 - val_recall: 0.5033\n",
            "Epoch 5/20\n",
            "\u001b[1m38/38\u001b[0m \u001b[32m━━━━━━━━━━━━━━━━━━━━\u001b[0m\u001b[37m\u001b[0m \u001b[1m0s\u001b[0m 5ms/step - accuracy: 0.7097 - loss: 0.5554 - precision: 0.6667 - recall: 0.4518 - val_accuracy: 0.5987 - val_loss: 0.7381 - val_precision: 1.0000 - val_recall: 0.5987\n",
            "Epoch 6/20\n",
            "\u001b[1m38/38\u001b[0m \u001b[32m━━━━━━━━━━━━━━━━━━━━\u001b[0m\u001b[37m\u001b[0m \u001b[1m0s\u001b[0m 5ms/step - accuracy: 0.7072 - loss: 0.5475 - precision: 0.6323 - recall: 0.5241 - val_accuracy: 0.4474 - val_loss: 0.8124 - val_precision: 1.0000 - val_recall: 0.4474\n",
            "Epoch 7/20\n",
            "\u001b[1m38/38\u001b[0m \u001b[32m━━━━━━━━━━━━━━━━━━━━\u001b[0m\u001b[37m\u001b[0m \u001b[1m0s\u001b[0m 5ms/step - accuracy: 0.7146 - loss: 0.5435 - precision: 0.6667 - recall: 0.4781 - val_accuracy: 0.5691 - val_loss: 0.7217 - val_precision: 1.0000 - val_recall: 0.5691\n",
            "Epoch 8/20\n",
            "\u001b[1m38/38\u001b[0m \u001b[32m━━━━━━━━━━━━━━━━━━━━\u001b[0m\u001b[37m\u001b[0m \u001b[1m0s\u001b[0m 5ms/step - accuracy: 0.7319 - loss: 0.5248 - precision: 0.6757 - recall: 0.5482 - val_accuracy: 0.5822 - val_loss: 0.7343 - val_precision: 1.0000 - val_recall: 0.5822\n",
            "Epoch 9/20\n",
            "\u001b[1m38/38\u001b[0m \u001b[32m━━━━━━━━━━━━━━━━━━━━\u001b[0m\u001b[37m\u001b[0m \u001b[1m0s\u001b[0m 5ms/step - accuracy: 0.7138 - loss: 0.5289 - precision: 0.6484 - recall: 0.5175 - val_accuracy: 0.5395 - val_loss: 0.7451 - val_precision: 1.0000 - val_recall: 0.5395\n",
            "Epoch 10/20\n",
            "\u001b[1m38/38\u001b[0m \u001b[32m━━━━━━━━━━━━━━━━━━━━\u001b[0m\u001b[37m\u001b[0m \u001b[1m0s\u001b[0m 5ms/step - accuracy: 0.7401 - loss: 0.5174 - precision: 0.6923 - recall: 0.5526 - val_accuracy: 0.6447 - val_loss: 0.6720 - val_precision: 1.0000 - val_recall: 0.6447\n",
            "Epoch 11/20\n",
            "\u001b[1m38/38\u001b[0m \u001b[32m━━━━━━━━━━━━━━━━━━━━\u001b[0m\u001b[37m\u001b[0m \u001b[1m0s\u001b[0m 5ms/step - accuracy: 0.7311 - loss: 0.5100 - precision: 0.6658 - recall: 0.5680 - val_accuracy: 0.6480 - val_loss: 0.6488 - val_precision: 1.0000 - val_recall: 0.6480\n",
            "Epoch 12/20\n",
            "\u001b[1m38/38\u001b[0m \u001b[32m━━━━━━━━━━━━━━━━━━━━\u001b[0m\u001b[37m\u001b[0m \u001b[1m0s\u001b[0m 5ms/step - accuracy: 0.7459 - loss: 0.5039 - precision: 0.6971 - recall: 0.5702 - val_accuracy: 0.5197 - val_loss: 0.7354 - val_precision: 1.0000 - val_recall: 0.5197\n",
            "Epoch 13/20\n",
            "\u001b[1m38/38\u001b[0m \u001b[32m━━━━━━━━━━━━━━━━━━━━\u001b[0m\u001b[37m\u001b[0m \u001b[1m0s\u001b[0m 5ms/step - accuracy: 0.7525 - loss: 0.4983 - precision: 0.7147 - recall: 0.5658 - val_accuracy: 0.6316 - val_loss: 0.6462 - val_precision: 1.0000 - val_recall: 0.6316\n",
            "Epoch 14/20\n",
            "\u001b[1m38/38\u001b[0m \u001b[32m━━━━━━━━━━━━━━━━━━━━\u001b[0m\u001b[37m\u001b[0m \u001b[1m0s\u001b[0m 5ms/step - accuracy: 0.7426 - loss: 0.4920 - precision: 0.6838 - recall: 0.5833 - val_accuracy: 0.6480 - val_loss: 0.6352 - val_precision: 1.0000 - val_recall: 0.6480\n",
            "Epoch 15/20\n",
            "\u001b[1m38/38\u001b[0m \u001b[32m━━━━━━━━━━━━━━━━━━━━\u001b[0m\u001b[37m\u001b[0m \u001b[1m0s\u001b[0m 5ms/step - accuracy: 0.7451 - loss: 0.4973 - precision: 0.6911 - recall: 0.5789 - val_accuracy: 0.6546 - val_loss: 0.6312 - val_precision: 1.0000 - val_recall: 0.6546\n",
            "Epoch 16/20\n",
            "\u001b[1m38/38\u001b[0m \u001b[32m━━━━━━━━━━━━━━━━━━━━\u001b[0m\u001b[37m\u001b[0m \u001b[1m0s\u001b[0m 5ms/step - accuracy: 0.7286 - loss: 0.4973 - precision: 0.6567 - recall: 0.5789 - val_accuracy: 0.5888 - val_loss: 0.7005 - val_precision: 1.0000 - val_recall: 0.5888\n",
            "Epoch 17/20\n",
            "\u001b[1m38/38\u001b[0m \u001b[32m━━━━━━━━━━━━━━━━━━━━\u001b[0m\u001b[37m\u001b[0m \u001b[1m0s\u001b[0m 5ms/step - accuracy: 0.7344 - loss: 0.4986 - precision: 0.6884 - recall: 0.5329 - val_accuracy: 0.6151 - val_loss: 0.6298 - val_precision: 1.0000 - val_recall: 0.6151\n",
            "Epoch 18/20\n",
            "\u001b[1m38/38\u001b[0m \u001b[32m━━━━━━━━━━━━━━━━━━━━\u001b[0m\u001b[37m\u001b[0m \u001b[1m0s\u001b[0m 5ms/step - accuracy: 0.7484 - loss: 0.4897 - precision: 0.6769 - recall: 0.6294 - val_accuracy: 0.7138 - val_loss: 0.5811 - val_precision: 1.0000 - val_recall: 0.7138\n",
            "Epoch 19/20\n",
            "\u001b[1m38/38\u001b[0m \u001b[32m━━━━━━━━━━━━━━━━━━━━\u001b[0m\u001b[37m\u001b[0m \u001b[1m0s\u001b[0m 5ms/step - accuracy: 0.7582 - loss: 0.4852 - precision: 0.7132 - recall: 0.5943 - val_accuracy: 0.6217 - val_loss: 0.6006 - val_precision: 1.0000 - val_recall: 0.6217\n",
            "Epoch 20/20\n",
            "\u001b[1m38/38\u001b[0m \u001b[32m━━━━━━━━━━━━━━━━━━━━\u001b[0m\u001b[37m\u001b[0m \u001b[1m0s\u001b[0m 6ms/step - accuracy: 0.7558 - loss: 0.4763 - precision: 0.7044 - recall: 0.6009 - val_accuracy: 0.6086 - val_loss: 0.6297 - val_precision: 1.0000 - val_recall: 0.6086\n"
          ]
        }
      ],
      "source": [
        "# ====== TensorFlow Model Training ======\n",
        "import tensorflow as tf\n",
        "from tensorflow import keras\n",
        "from tensorflow.keras import layers\n",
        "from sklearn.preprocessing import StandardScaler\n",
        "\n",
        "# Scaling fitur numerik\n",
        "scaler = StandardScaler()\n",
        "X_res_scaled = scaler.fit_transform(X_res)\n",
        "X_test_scaled = scaler.transform(X_test)\n",
        "\n",
        "# Definisi arsitektur model\n",
        "model = keras.Sequential([\n",
        "    layers.Input(shape=(X_res_scaled.shape[1],)),\n",
        "    layers.Dense(128, activation='relu'),\n",
        "    layers.Dropout(0.3),\n",
        "    layers.Dense(64, activation='relu'),\n",
        "    layers.Dropout(0.3),\n",
        "    layers.Dense(1, activation='sigmoid')  # Output biner\n",
        "])\n",
        "\n",
        "# Compile model\n",
        "model.compile(\n",
        "    optimizer='adam',\n",
        "    loss='binary_crossentropy',\n",
        "    metrics=['accuracy', keras.metrics.Precision(), keras.metrics.Recall()]\n",
        ")\n",
        "\n",
        "# Training\n",
        "history = model.fit(\n",
        "    X_res_scaled, y_res,\n",
        "    validation_split=0.2,\n",
        "    epochs=20,\n",
        "    batch_size=32,\n",
        "    verbose=1\n",
        ")"
      ]
    },
    {
      "cell_type": "code",
      "execution_count": null,
      "metadata": {
        "colab": {
          "base_uri": "https://localhost:8080/",
          "height": 680
        },
        "id": "0JPCFib3zE3V",
        "outputId": "946e8245-7733-4646-ce9a-9eb8e5bb681c"
      },
      "outputs": [
        {
          "name": "stdout",
          "output_type": "stream",
          "text": [
            "\u001b[1m7/7\u001b[0m \u001b[32m━━━━━━━━━━━━━━━━━━━━\u001b[0m\u001b[37m\u001b[0m \u001b[1m0s\u001b[0m 13ms/step\n",
            "\n",
            "Classification Report:\n",
            "              precision    recall  f1-score   support\n",
            "\n",
            "           0     0.9500    0.9000    0.9243       190\n",
            "           1     0.0500    0.1000    0.0667        10\n",
            "\n",
            "    accuracy                         0.8600       200\n",
            "   macro avg     0.5000    0.5000    0.4955       200\n",
            "weighted avg     0.9050    0.8600    0.8814       200\n",
            "\n"
          ]
        },
        {
          "data": {
            "text/plain": [
              "<Figure size 600x400 with 0 Axes>"
            ]
          },
          "metadata": {},
          "output_type": "display_data"
        },
        {
          "data": {
            "image/png": "[encoded data removed]",
            "text/plain": [
              "<Figure size 640x480 with 2 Axes>"
            ]
          },
          "metadata": {},
          "output_type": "display_data"
        }
      ],
      "source": [
        "y_pred_proba = model.predict(X_test_scaled)\n",
        "y_pred = (y_pred_proba > 0.5).astype(\"int32\")\n",
        "\n",
        "print(\"\\nClassification Report:\")\n",
        "from sklearn.metrics import classification_report, confusion_matrix, ConfusionMatrixDisplay\n",
        "print(classification_report(y_test, y_pred, digits=4))\n",
        "\n",
        "cm = confusion_matrix(y_test, y_pred, labels=[0, 1])\n",
        "disp = ConfusionMatrixDisplay(confusion_matrix=cm, display_labels=[\"Non-Fraud\", \"Fraud\"])\n",
        "plt.figure(figsize=(6, 4))\n",
        "disp.plot(cmap='Blues', values_format='d')\n",
        "plt.title(\"Confusion Matrix\")\n",
        "plt.show()"
      ]
    },
    {
      "cell_type": "code",
      "execution_count": 12,
      "metadata": {
        "colab": {
          "base_uri": "https://localhost:8080/"
        },
        "id": "2gXIviMygG03",
        "outputId": "cb80923a-3bea-418a-c85c-18566ec628ec"
      },
      "outputs": [
        {
          "name": "stdout",
          "output_type": "stream",
          "text": [
            "\u001b[1m1/1\u001b[0m \u001b[32m━━━━━━━━━━━━━━━━━━━━\u001b[0m\u001b[37m\u001b[0m \u001b[1m0s\u001b[0m 44ms/step\n",
            "\n",
            "Prediksi untuk data baru:\n",
            " Label prediksi: Fraud\n",
            " Probabilitas Fraud: 0.7316\n"
          ]
        }
      ],
      "source": [
        "# ====== Load Sample Data Baru ======\n",
        "sample_data = {\n",
        "    'transaction_id': 1001,\n",
        "    'amount': 104.88,\n",
        "    'merchant_type': 'electronics',\n",
        "    'device_type': 'tablet'\n",
        "}\n",
        "\n",
        "sample_df = pd.DataFrame([sample_data])\n",
        "sample_df['amount_log'] = np.log1p(sample_df['amount'])\n",
        "\n",
        "combined = pd.concat([df[['merchant_type', 'device_type']], sample_df[['merchant_type', 'device_type']]])\n",
        "combined_encoded = pd.get_dummies(combined, drop_first=True)\n",
        "sample_encoded = combined_encoded.iloc[[-1]].reset_index(drop=True)\n",
        "\n",
        "numerical_cols = ['amount_log']\n",
        "sample_final = pd.concat([sample_df[numerical_cols].reset_index(drop=True), sample_encoded], axis=1)\n",
        "\n",
        "for col in X_train.columns:\n",
        "    if col not in sample_final.columns:\n",
        "        sample_final[col] = 0\n",
        "\n",
        "sample_final = sample_final[X_train.columns]\n",
        "sample_final_scaled = scaler.transform(sample_final)\n",
        "\n",
        "new_prediction = model.predict(sample_final_scaled)\n",
        "label_pred = 'Fraud' if new_prediction[0][0] > 0.5 else 'Non-Fraud'\n",
        "\n",
        "print(f\"\\nPrediksi untuk data baru:\")\n",
        "print(f\" Label prediksi: {label_pred}\")\n",
        "print(f\" Probabilitas Fraud: {new_prediction[0][0]:.4f}\")"
      ]
    },
    {
      "cell_type": "code",
      "execution_count": null,
      "metadata": {},
      "outputs": [
        {
          "name": "stderr",
          "output_type": "stream",
          "text": [
            "WARNING:absl:You are saving your model as an HDF5 file via `model.save()` or `keras.saving.save_model(model)`. This file format is considered legacy. We recommend using instead the native Keras format, e.g. `model.save('my_model.keras')` or `keras.saving.save_model(model, 'my_model.keras')`. \n"
          ]
        }
      ],
      "source": [
        "import os\n",
        "import pickle\n",
        "\n",
        "os.makedirs(\"model\", exist_ok=True)\n",
        "\n",
        "model.save(\"model/fraud_model_tf.h5\")\n",
        "\n",
        "with open(\"model/scaler.pkl\", \"wb\") as f:\n",
        "    pickle.dump(scaler, f)\n",
        "\n",
        "model_columns = list(X_train.columns)\n",
        "with open(\"model/model_columns.pkl\", \"wb\") as f:\n",
        "    pickle.dump(model_columns, f)"
      ]
    },
    {
      "cell_type": "code",
      "execution_count": null,
      "metadata": {},
      "outputs": [
        {
          "name": "stdout",
          "output_type": "stream",
          "text": [
            "✅ Model dan preprocessing tersimpan di folder model/\n"
          ]
        }
      ],
      "source": [
        "import os\n",
        "import joblib\n",
        "import json\n",
        "import tensorflow as tf\n",
        "\n",
        "os.makedirs(\"model\", exist_ok=True)\n",
        "\n",
        "model.save(\"model/fraud_model_tf.keras\")  # ✅ format baru\n",
        "\n",
        "joblib.dump(scaler, \"model/scaler.pkl\")\n",
        "\n",
        "with open(\"model/model_columns.json\", \"w\") as f:\n",
        "    json.dump(list(X_train.columns), f)\n",
        "\n",
        "print(\"✅ Model dan preprocessing tersimpan di folder model/\")\n"
      ]
    }
  ],
  "metadata": {
    "colab": {
      "provenance": []
    },
    "kernelspec": {
      "display_name": "Python 3",
      "language": "python",
      "name": "python3"
    },
    "language_info": {
      "codemirror_mode": {
        "name": "ipython",
        "version": 3
      },
      "file_extension": ".py",
      "mimetype": "text/x-python",
      "name": "python",
      "nbconvert_exporter": "python",
      "pygments_lexer": "ipython3",
      "version": "3.12.9"
    }
  },
  "nbformat": 4,
  "nbformat_minor": 0
}
